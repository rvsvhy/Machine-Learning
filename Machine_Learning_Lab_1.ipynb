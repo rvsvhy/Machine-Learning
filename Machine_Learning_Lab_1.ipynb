{
  "nbformat": 4,
  "nbformat_minor": 0,
  "metadata": {
    "colab": {
      "provenance": [],
      "authorship_tag": "ABX9TyM/VIA+9VEjkyWyBIKyEsEM",
      "include_colab_link": true
    },
    "kernelspec": {
      "name": "python3",
      "display_name": "Python 3"
    },
    "language_info": {
      "name": "python"
    }
  },
  "cells": [
    {
      "cell_type": "markdown",
      "metadata": {
        "id": "view-in-github",
        "colab_type": "text"
      },
      "source": [
        "<a href=\"https://colab.research.google.com/github/rvsvhy/Machine-Learning/blob/main/Machine_Learning_Lab_1.ipynb\" target=\"_parent\"><img src=\"https://colab.research.google.com/assets/colab-badge.svg\" alt=\"Open In Colab\"/></a>"
      ]
    },
    {
      "cell_type": "code",
      "execution_count": 24,
      "metadata": {
        "colab": {
          "base_uri": "https://localhost:8080/"
        },
        "id": "m0orB47nwMj8",
        "outputId": "a4c08eff-0ffc-435c-904d-38cb757f8428"
      },
      "outputs": [
        {
          "output_type": "stream",
          "name": "stdout",
          "text": [
            "Enter the string: Skanda\n",
            "SKANDA\n",
            "Vowels: 2\n",
            "Consonants: 4\n"
          ]
        }
      ],
      "source": [
        "# 1) Count the no of vowels and consonants\n",
        "a = str(input(\"Enter the string: \").upper())\n",
        "print(a)\n",
        "Q = list(a)\n",
        "\n",
        "def isVowel(E):\n",
        "    return E in ['A', 'E', 'I', 'O', 'U']\n",
        "\n",
        "def count(array):\n",
        "    countVowel = 0\n",
        "    countConso = 0\n",
        "    for i in array:\n",
        "        if i.isalpha():  # Only count letters\n",
        "            if isVowel(i):\n",
        "                countVowel += 1\n",
        "            else:\n",
        "                countConso += 1\n",
        "    return countVowel, countConso\n",
        "\n",
        "answer = count(Q)\n",
        "print(\"Vowels:\", answer[0])\n",
        "print(\"Consonants:\", answer[1])\n"
      ]
    },
    {
      "cell_type": "code",
      "source": [
        "import numpy as np\n",
        "\n",
        "def define_matrices():\n",
        "    A = np.array([[2, 3, 6], [4, 5, 1]])\n",
        "    B = np.array([[1, 1, 3], [9, 7, 2], [5, 1, 7]])\n",
        "    return A, B\n",
        "\n",
        "def can_multiply(A, B):\n",
        "    return A.shape[1] == B.shape[0]\n",
        "\n",
        "def multiply_matrices(A, B):\n",
        "    return np.dot(A, B)\n",
        "\n",
        "def print_matrix(matrix, name):\n",
        "    print(f\"Matrix {name}:\")\n",
        "    print(matrix)\n",
        "    print()\n",
        "\n",
        "def main():\n",
        "    A, B = define_matrices()\n",
        "    print_matrix(A, \"A\")\n",
        "    print_matrix(B, \"B\")\n",
        "\n",
        "    if can_multiply(A, B):\n",
        "        result = multiply_matrices(A, B)\n",
        "        print_matrix(result, \"A x B (Result)\")\n",
        "    else:\n",
        "        print(\"Multiplication is not possible. Columns of A must equal rows of B.\")\n",
        "\n",
        "# Run the program\n",
        "main()\n"
      ],
      "metadata": {
        "colab": {
          "base_uri": "https://localhost:8080/"
        },
        "id": "buR01MX0zJY6",
        "outputId": "d69cddcc-0ce3-48ea-bf74-4dfa8aa0e6f6"
      },
      "execution_count": 28,
      "outputs": [
        {
          "output_type": "stream",
          "name": "stdout",
          "text": [
            "Matrix A:\n",
            "[[2 3 6]\n",
            " [4 5 1]]\n",
            "\n",
            "Matrix B:\n",
            "[[1 1 3]\n",
            " [9 7 2]\n",
            " [5 1 7]]\n",
            "\n",
            "Matrix A x B (Result):\n",
            "[[59 29 54]\n",
            " [54 40 29]]\n",
            "\n"
          ]
        }
      ]
    },
    {
      "cell_type": "code",
      "source": [
        "# 3) Common elements in a list\n",
        "def intersection(arr1, arr2):\n",
        "  return [value for value in arr1 if value in arr2]\n",
        "\n",
        "a1 = list(map(int, input(\"Enter the elements of the first array: \").split()))\n",
        "a2 = list(map(int, input(\"Enter the elements of the second array: \").split()))\n",
        "\n",
        "print(intersection(a1, a2))"
      ],
      "metadata": {
        "colab": {
          "base_uri": "https://localhost:8080/"
        },
        "id": "ftVZZ8Tb32Jg",
        "outputId": "fef3ca26-9574-446b-cd86-a94dd18dcd27"
      },
      "execution_count": 19,
      "outputs": [
        {
          "output_type": "stream",
          "name": "stdout",
          "text": [
            "Enter the elements of the first array: 2 3 7 8 4 1\n",
            "Enter the elements of the second array: 3 9 4 0 6 0\n",
            "[3, 4]\n"
          ]
        }
      ]
    },
    {
      "cell_type": "code",
      "source": [
        "# 4) Transpose of a matrix\n",
        "def Find_the_transpose():\n",
        "  matrix = np.array([[2, 4, 6], [3, 9, 0], [4, 1, 1]])\n",
        "  transpose = np.transpose(matrix)\n",
        "  return transpose\n",
        "answer = Find_the_transpose()\n",
        "print(answer)"
      ],
      "metadata": {
        "colab": {
          "base_uri": "https://localhost:8080/"
        },
        "id": "7X9gYaeM6QEA",
        "outputId": "e65606a5-5ace-4e9d-a9e6-b681bb3c5f11"
      },
      "execution_count": 29,
      "outputs": [
        {
          "output_type": "stream",
          "name": "stdout",
          "text": [
            "[[2 3 4]\n",
            " [4 9 1]\n",
            " [6 0 1]]\n"
          ]
        }
      ]
    },
    {
      "cell_type": "code",
      "source": [
        "# 5) Mean median and mode of random numbers\n",
        "\n",
        "import random\n",
        "import numpy as np\n",
        "from scipy import stats\n",
        "\n",
        "def random_numbers(n, start, end):\n",
        "    if end - start + 1 < n:\n",
        "        raise ValueError(\"Range is too small for unique sampling.\")\n",
        "    return random.sample(range(start, end + 1), n)\n",
        "\n",
        "def mean(data):\n",
        "    return np.mean(data)\n",
        "\n",
        "def mode(data):\n",
        "    return stats.mode(data, keepdims=True)[0][0]\n",
        "\n",
        "def median(data):\n",
        "    return np.median(data)\n",
        "\n",
        "data = random_numbers(100, 100, 200)\n",
        "print(\"Random Numbers:\", data)\n",
        "print(\"Mean:\", mean(data))\n",
        "print(\"Mode:\", mode(data))\n",
        "print(\"Median:\", median(data))\n"
      ],
      "metadata": {
        "colab": {
          "base_uri": "https://localhost:8080/"
        },
        "id": "y2-oEbTI923C",
        "outputId": "9712f0f4-6988-4a55-8788-536645a0f94c"
      },
      "execution_count": 33,
      "outputs": [
        {
          "output_type": "stream",
          "name": "stdout",
          "text": [
            "Random Numbers: [193, 124, 188, 121, 116, 153, 110, 137, 199, 181, 148, 191, 173, 195, 141, 135, 157, 140, 131, 133, 129, 192, 132, 105, 190, 178, 122, 118, 143, 158, 111, 104, 159, 164, 179, 123, 107, 162, 185, 106, 166, 142, 127, 109, 150, 155, 119, 120, 125, 197, 145, 130, 161, 103, 134, 187, 152, 194, 168, 167, 139, 156, 117, 108, 180, 165, 184, 170, 174, 102, 114, 169, 183, 151, 149, 147, 154, 100, 144, 146, 136, 182, 172, 189, 198, 163, 177, 138, 200, 196, 113, 115, 101, 128, 176, 112, 175, 126, 160, 186]\n",
            "Mean: 149.79\n",
            "Mode: 100\n",
            "Median: 149.5\n"
          ]
        }
      ]
    }
  ]
}